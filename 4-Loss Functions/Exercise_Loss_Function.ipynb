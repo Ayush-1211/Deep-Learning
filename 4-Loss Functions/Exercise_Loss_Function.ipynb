{
  "nbformat": 4,
  "nbformat_minor": 0,
  "metadata": {
    "colab": {
      "name": "Exercise Loss Function.ipynb",
      "provenance": []
    },
    "kernelspec": {
      "name": "python3",
      "display_name": "Python 3"
    },
    "language_info": {
      "name": "python"
    }
  },
  "cells": [
    {
      "cell_type": "code",
      "execution_count": 1,
      "metadata": {
        "id": "yA0ZCAG9XdGb"
      },
      "outputs": [],
      "source": [
        "import numpy as np\n",
        "\n",
        "y_predicted = np.array([1,1,0,0,1])\n",
        "y_true = np.array([0.30,0.7,1,0,0.5])"
      ]
    },
    {
      "cell_type": "code",
      "source": [
        "def mse(y_true, y_predicted):\n",
        "    total_error = 0\n",
        "    for yt, yp in zip(y_true, y_predicted):\n",
        "        total_error += (yt-yp)**2\n",
        "    print(\"Total Squared Error:\",total_error)\n",
        "    mse = total_error/len(y_true)\n",
        "    print(\"Mean Squared Error:\",mse)\n",
        "    return mse"
      ],
      "metadata": {
        "id": "NZusQwAvXj_J"
      },
      "execution_count": 2,
      "outputs": []
    },
    {
      "cell_type": "code",
      "source": [
        "mse(y_true, y_predicted)"
      ],
      "metadata": {
        "colab": {
          "base_uri": "https://localhost:8080/"
        },
        "id": "ARVv2xkNXooX",
        "outputId": "ccbe3413-849d-42fe-cfb5-292f8552eec9"
      },
      "execution_count": 3,
      "outputs": [
        {
          "output_type": "stream",
          "name": "stdout",
          "text": [
            "Total Squared Error: 1.83\n",
            "Mean Squared Error: 0.366\n"
          ]
        },
        {
          "output_type": "execute_result",
          "data": {
            "text/plain": [
              "0.366"
            ]
          },
          "metadata": {},
          "execution_count": 3
        }
      ]
    },
    {
      "cell_type": "code",
      "source": [
        "np.mean(np.square(y_true-y_predicted))"
      ],
      "metadata": {
        "colab": {
          "base_uri": "https://localhost:8080/"
        },
        "id": "RNnhZ2QPXrrW",
        "outputId": "3f677f9e-adb3-4009-aa88-bd3b96fa8692"
      },
      "execution_count": 4,
      "outputs": [
        {
          "output_type": "execute_result",
          "data": {
            "text/plain": [
              "0.366"
            ]
          },
          "metadata": {},
          "execution_count": 4
        }
      ]
    },
    {
      "cell_type": "code",
      "source": [
        ""
      ],
      "metadata": {
        "id": "G7QtURAnXuLz"
      },
      "execution_count": null,
      "outputs": []
    }
  ]
}